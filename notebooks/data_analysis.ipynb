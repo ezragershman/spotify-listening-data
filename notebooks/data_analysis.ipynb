{
  "metadata": {
    "kernelspec": {
      "language": "python",
      "display_name": "Python 3",
      "name": "python3"
    },
    "language_info": {
      "name": "python",
      "version": "3.10.14",
      "mimetype": "text/x-python",
      "codemirror_mode": {
        "name": "ipython",
        "version": 3
      },
      "pygments_lexer": "ipython3",
      "nbconvert_exporter": "python",
      "file_extension": ".py"
    },
    "kaggle": {
      "accelerator": "none",
      "dataSources": [
        {
          "sourceId": 9886468,
          "sourceType": "datasetVersion",
          "datasetId": 6071248
        }
      ],
      "isInternetEnabled": false,
      "language": "python",
      "sourceType": "notebook",
      "isGpuEnabled": false
    },
    "colab": {
      "provenance": [],
      "include_colab_link": true
    }
  },
  "nbformat_minor": 0,
  "nbformat": 4,
  "cells": [
    {
      "cell_type": "markdown",
      "metadata": {
        "id": "view-in-github",
        "colab_type": "text"
      },
      "source": [
        "<a href=\"https://colab.research.google.com/github/ezragershman/spotify-listening-data/blob/main/notebooks/data_analysis.ipynb\" target=\"_parent\"><img src=\"https://colab.research.google.com/assets/colab-badge.svg\" alt=\"Open In Colab\"/></a>"
      ]
    },
    {
      "cell_type": "code",
      "source": [
        "import os\n",
        "# Change to the cloned repo directory (optional)\n",
        "%cd '/content/spotify-listening-data'\n",
        "for dirname, _, filenames in os.walk('/content/spotify-listening-data'):\n",
        "    for filename in filenames:\n",
        "        print(os.path.join(dirname, filename))"
      ],
      "metadata": {
        "_uuid": "8f2839f25d086af736a60e9eeb907d3b93b6e0e5",
        "_cell_guid": "b1076dfc-b9ad-4769-8c92-a6c4dae69d19",
        "trusted": true,
        "execution": {
          "iopub.status.busy": "2024-11-12T16:37:44.049622Z",
          "iopub.execute_input": "2024-11-12T16:37:44.050110Z",
          "iopub.status.idle": "2024-11-12T16:37:44.082224Z",
          "shell.execute_reply.started": "2024-11-12T16:37:44.050063Z",
          "shell.execute_reply": "2024-11-12T16:37:44.080893Z"
        },
        "id": "tR7kAO397UKR",
        "outputId": "9c96f19b-b8a1-4baa-8324-62a740b4f92e",
        "colab": {
          "base_uri": "https://localhost:8080/"
        }
      },
      "outputs": [
        {
          "output_type": "stream",
          "name": "stdout",
          "text": [
            "/content/spotify-listening-data\n",
            "/content/spotify-listening-data/README.md\n",
            "/content/spotify-listening-data/data/raw/Streaming_History_Audio_2013-2024.json\n",
            "/content/spotify-listening-data/data/processed/spotify_data.csv\n",
            "/content/spotify-listening-data/.git/config\n",
            "/content/spotify-listening-data/.git/index\n",
            "/content/spotify-listening-data/.git/HEAD\n",
            "/content/spotify-listening-data/.git/packed-refs\n",
            "/content/spotify-listening-data/.git/description\n",
            "/content/spotify-listening-data/.git/hooks/post-update.sample\n",
            "/content/spotify-listening-data/.git/hooks/update.sample\n",
            "/content/spotify-listening-data/.git/hooks/commit-msg.sample\n",
            "/content/spotify-listening-data/.git/hooks/pre-push.sample\n",
            "/content/spotify-listening-data/.git/hooks/fsmonitor-watchman.sample\n",
            "/content/spotify-listening-data/.git/hooks/push-to-checkout.sample\n",
            "/content/spotify-listening-data/.git/hooks/pre-rebase.sample\n",
            "/content/spotify-listening-data/.git/hooks/applypatch-msg.sample\n",
            "/content/spotify-listening-data/.git/hooks/prepare-commit-msg.sample\n",
            "/content/spotify-listening-data/.git/hooks/pre-merge-commit.sample\n",
            "/content/spotify-listening-data/.git/hooks/pre-receive.sample\n",
            "/content/spotify-listening-data/.git/hooks/pre-applypatch.sample\n",
            "/content/spotify-listening-data/.git/hooks/pre-commit.sample\n",
            "/content/spotify-listening-data/.git/info/exclude\n",
            "/content/spotify-listening-data/.git/logs/HEAD\n",
            "/content/spotify-listening-data/.git/logs/refs/heads/main\n",
            "/content/spotify-listening-data/.git/logs/refs/remotes/origin/HEAD\n",
            "/content/spotify-listening-data/.git/refs/heads/main\n",
            "/content/spotify-listening-data/.git/refs/remotes/origin/HEAD\n",
            "/content/spotify-listening-data/.git/objects/pack/pack-02e4de9b056603aa7bd2923ec0e61072f6e91b28.pack\n",
            "/content/spotify-listening-data/.git/objects/pack/pack-02e4de9b056603aa7bd2923ec0e61072f6e91b28.idx\n",
            "/content/spotify-listening-data/notebooks/data_analysis.ipynb\n",
            "/content/spotify-listening-data/spotify-listening-data/.git/config\n",
            "/content/spotify-listening-data/spotify-listening-data/.git/index\n",
            "/content/spotify-listening-data/spotify-listening-data/.git/HEAD\n",
            "/content/spotify-listening-data/spotify-listening-data/.git/packed-refs\n",
            "/content/spotify-listening-data/spotify-listening-data/.git/description\n",
            "/content/spotify-listening-data/spotify-listening-data/.git/hooks/post-update.sample\n",
            "/content/spotify-listening-data/spotify-listening-data/.git/hooks/update.sample\n",
            "/content/spotify-listening-data/spotify-listening-data/.git/hooks/commit-msg.sample\n",
            "/content/spotify-listening-data/spotify-listening-data/.git/hooks/pre-push.sample\n",
            "/content/spotify-listening-data/spotify-listening-data/.git/hooks/fsmonitor-watchman.sample\n",
            "/content/spotify-listening-data/spotify-listening-data/.git/hooks/push-to-checkout.sample\n",
            "/content/spotify-listening-data/spotify-listening-data/.git/hooks/pre-rebase.sample\n",
            "/content/spotify-listening-data/spotify-listening-data/.git/hooks/applypatch-msg.sample\n",
            "/content/spotify-listening-data/spotify-listening-data/.git/hooks/prepare-commit-msg.sample\n",
            "/content/spotify-listening-data/spotify-listening-data/.git/hooks/pre-merge-commit.sample\n",
            "/content/spotify-listening-data/spotify-listening-data/.git/hooks/pre-receive.sample\n",
            "/content/spotify-listening-data/spotify-listening-data/.git/hooks/pre-applypatch.sample\n",
            "/content/spotify-listening-data/spotify-listening-data/.git/hooks/pre-commit.sample\n",
            "/content/spotify-listening-data/spotify-listening-data/.git/info/exclude\n",
            "/content/spotify-listening-data/spotify-listening-data/.git/logs/HEAD\n",
            "/content/spotify-listening-data/spotify-listening-data/.git/logs/refs/heads/main\n",
            "/content/spotify-listening-data/spotify-listening-data/.git/logs/refs/remotes/origin/HEAD\n",
            "/content/spotify-listening-data/spotify-listening-data/.git/refs/heads/main\n",
            "/content/spotify-listening-data/spotify-listening-data/.git/refs/remotes/origin/HEAD\n",
            "/content/spotify-listening-data/spotify-listening-data/.git/objects/pack/pack-7dc8586944e5bab249cc07587a8abfc480ac61c5.pack\n",
            "/content/spotify-listening-data/spotify-listening-data/.git/objects/pack/pack-7dc8586944e5bab249cc07587a8abfc480ac61c5.idx\n"
          ]
        }
      ],
      "execution_count": 26
    },
    {
      "cell_type": "markdown",
      "source": [
        "# **MAIN FUNCTION TO UPDATE & SAVE MUSIC LIBRARY DATABASE**\n"
      ],
      "metadata": {
        "id": "mDDlLipM7UKV"
      }
    },
    {
      "cell_type": "code",
      "source": [
        "import requests\n",
        "from base64 import b64encode\n",
        "import os\n",
        "from google.colab import userdata\n",
        "\n",
        "# Step 1: Set up Spotify credentials as environment variables in Google Colab\n",
        "CLIENT_ID = userdata.get('spotify_client_id')\n",
        "CLIENT_SECRET = userdata.get('spotify_client_sec')\n",
        "\n",
        "# Step 2: Get Access Token from Spotify API using Client Credentials Flow\n",
        "def get_access_token(client_id, client_secret):\n",
        "    auth_header = b64encode(f\"{client_id}:{client_secret}\".encode('utf-8')).decode('utf-8')\n",
        "    headers = {\n",
        "        'Authorization': f'Basic {auth_header}',\n",
        "        'Content-Type': 'application/x-www-form-urlencoded'\n",
        "    }\n",
        "    data = {'grant_type': 'client_credentials'}\n",
        "\n",
        "    response = requests.post('https://accounts.spotify.com/api/token', headers=headers, data=data)\n",
        "    if response.status_code == 200:\n",
        "        return response.json()['access_token']\n",
        "    else:\n",
        "        print(\"Failed to get access token\")\n",
        "        print(response.json())  # Added for better debugging\n",
        "        return None\n",
        "\n",
        "# Step 3: Search for a track by name and artist\n",
        "def search_track(track_name, artist_name, access_token):\n",
        "    headers = {'Authorization': f'Bearer {access_token}'}\n",
        "    query = f\"track:{track_name} artist:{artist_name}\"\n",
        "    params = {'q': query, 'type': 'track', 'limit': 1}\n",
        "\n",
        "    response = requests.get('https://api.spotify.com/v1/search', headers=headers, params=params)\n",
        "    if response.status_code == 200:\n",
        "        results = response.json()\n",
        "        if results['tracks']['items']:\n",
        "            track = results['tracks']['items'][0]  # Get the first matching result\n",
        "            return {\n",
        "                'Track Name': track['name'],\n",
        "                'Artist': track['artists'][0]['name'],\n",
        "                'Album': track['album']['name'],\n",
        "                'Release Date': track['album']['release_date'],\n",
        "                'Duration (ms)': track['duration_ms'],\n",
        "                'Popularity': track['popularity'],\n",
        "                'URI': track['uri']\n",
        "            }\n",
        "        else:\n",
        "            print(\"No track found\")\n",
        "            return None\n",
        "    else:\n",
        "        print(\"Failed to search for track\")\n",
        "        print(response.json())  # Added for better debugging\n",
        "        return None\n"
      ],
      "metadata": {
        "trusted": true,
        "id": "GKJ1oCcy7UKX"
      },
      "outputs": [],
      "execution_count": null
    },
    {
      "cell_type": "code",
      "source": [
        "# Step 4: Example usage - search for \"Never Gonna Give You Up\" by Rick Astley\n",
        "access_token = get_access_token(CLIENT_ID, CLIENT_SECRET)\n",
        "if access_token:\n",
        "    track_info = search_track(\"Never Gonna Give You Up\", \"Rick Astley\", access_token)\n",
        "    if track_info:\n",
        "        print(track_info)"
      ],
      "metadata": {
        "id": "a1g8MXq29ptb",
        "outputId": "40b81b31-af28-41cc-8e43-0d086364d204",
        "colab": {
          "base_uri": "https://localhost:8080/"
        }
      },
      "execution_count": null,
      "outputs": [
        {
          "output_type": "stream",
          "name": "stdout",
          "text": [
            "{'Track Name': 'Never Gonna Give You Up', 'Artist': 'Rick Astley', 'Album': 'Whenever You Need Somebody', 'Release Date': '1987-11-12', 'Duration (ms)': 213573, 'Popularity': 78, 'URI': 'spotify:track:4PTG3Z6ehGkBFwjybzWkR8'}\n"
          ]
        }
      ]
    },
    {
      "cell_type": "markdown",
      "source": [
        "# **MAIN FUNCTION TO UPDATE & SAVE TO DATABASE**\n",
        "Set json_file_path to the name of the file you want to process."
      ],
      "metadata": {
        "id": "gjfLJz8F7UKY"
      }
    },
    {
      "cell_type": "code",
      "source": [
        "json_file_path = \"/content/spotify-listening-data/data/raw/Streaming_History_Audio_2013-2024.json\"\n",
        "json_to_csv(json_file_path)"
      ],
      "metadata": {
        "trusted": true,
        "execution": {
          "iopub.status.busy": "2024-11-12T15:40:07.289030Z",
          "iopub.execute_input": "2024-11-12T15:40:07.289607Z",
          "iopub.status.idle": "2024-11-12T15:40:07.580940Z",
          "shell.execute_reply.started": "2024-11-12T15:40:07.289557Z",
          "shell.execute_reply": "2024-11-12T15:40:07.579471Z"
        },
        "id": "DF0iBnKW7UKb",
        "outputId": "6cf4cb3f-727c-4cd1-f9b5-bd9acb27192d",
        "colab": {
          "base_uri": "https://localhost:8080/"
        }
      },
      "outputs": [
        {
          "output_type": "stream",
          "name": "stdout",
          "text": [
            "Data successfully updated and saved to /content/spotify-listening-data/data/processed/spotify_data.csv\n"
          ]
        }
      ],
      "execution_count": 7
    },
    {
      "cell_type": "code",
      "source": [
        "import pandas as pd\n",
        "import uuid\n",
        "import os\n",
        "import requests\n",
        "from ip2geotools.databases.noncommercial import DbIpCity\n",
        "\n",
        "\n",
        "# Function to get location details from IP address\n",
        "def get_location_from_ip(ip_address):\n",
        "    try:\n",
        "        # Query the ip2geotools database with the given IP address\n",
        "        res = DbIpCity.get(ip_address, api_key=\"free\")\n",
        "\n",
        "        # Structure the location data\n",
        "        location = {\n",
        "            \"ip\": ip_address,\n",
        "            \"city\": res.city,\n",
        "            \"region\": res.region,\n",
        "            \"country\": res.country,\n",
        "            \"latitude\": res.latitude,\n",
        "            \"longitude\": res.longitude\n",
        "        }\n",
        "        return location\n",
        "    except Exception as e:\n",
        "        return {\"error\": f\"An error occurred: {str(e)}\"}\n",
        "\n",
        "\n",
        "def json_to_csv(json_file_path, csv_output_path='/content/spotify-listening-data/data/processed/spotify_data.csv'):\n",
        "    # Load the new JSON data into a DataFrame\n",
        "    new_data = pd.read_json(json_file_path)\n",
        "\n",
        "    # Rename columns for consistency\n",
        "    new_data.rename(columns={\n",
        "        'ts': 'end_time_UTC',\n",
        "        'platform': 'platform',\n",
        "        'ms_played': 'ms_played',\n",
        "        'conn_country': 'connection_country',\n",
        "        'ip_addr_decrypted': 'ip_address',\n",
        "        'master_metadata_track_name': 'track_name',\n",
        "        'master_metadata_album_artist_name': 'album_artist_name',\n",
        "        'master_metadata_album_album_name': 'album_name',\n",
        "        'spotify_track_uri': 'track_uri',\n",
        "        'episode_name': 'episode_name',\n",
        "        'episode_show_name': 'episode_show_name',\n",
        "        'spotify_episode_uri': 'episode_uri',\n",
        "        'reason_start': 'start_reason',\n",
        "        'reason_end': 'end_reason',\n",
        "        'shuffle': 'shuffle',\n",
        "        'skipped': 'skipped',\n",
        "    }, inplace=True)\n",
        "\n",
        "    # # Get the location data and normalize it into separate columns\n",
        "    # location_data = new_data['ip_address'].apply(lambda ip: get_location_from_ip(ip))\n",
        "\n",
        "    # # Normalize the location data into separate columns\n",
        "    # location_df = json_normalize(location_data)\n",
        "\n",
        "    # # Merge the location data with the original DataFrame\n",
        "    # new_data = pd.concat([new_data, location_df], axis=1)\n",
        "\n",
        "    # Generate a unique ID for each row\n",
        "    new_data['unique_id'] = new_data['end_time_UTC'].apply(lambda x: f\"{x}_{uuid.uuid4().hex[:8]}\")\n",
        "\n",
        "    # Keep only the relevant columns for the CSV\n",
        "    new_data = new_data[['unique_id', 'end_time_UTC', 'platform', 'ms_played', 'connection_country',\n",
        "                         'ip_address', 'track_name', 'album_artist_name', 'album_name',\n",
        "                         'track_uri', 'episode_name', 'episode_show_name', 'episode_uri',\n",
        "                         'start_reason', 'end_reason', 'shuffle', 'skipped',\n",
        "                         # 'country', 'region', 'city', 'latitude', 'longitude'\n",
        "                         ]]\n",
        "\n",
        "    # If the output CSV already exists, read it to check for duplicates\n",
        "    if os.path.exists(csv_output_path):\n",
        "        existing_data = pd.read_csv(csv_output_path)\n",
        "\n",
        "        # Identify and keep only new rows that are not already in the CSV\n",
        "        merged_data = pd.concat([existing_data, new_data]).drop_duplicates(subset=['unique_id'], keep='first')\n",
        "    else:\n",
        "        # If no existing CSV, just use new data\n",
        "        merged_data = new_data\n",
        "\n",
        "    # Ensure the 'processed' directory exists (create it if not)\n",
        "    os.makedirs(os.path.dirname(csv_output_path), exist_ok=True)\n",
        "\n",
        "    # Save updated data to CSV in the specified path\n",
        "    merged_data.to_csv(csv_output_path, index=False)\n",
        "\n",
        "    print(f\"Data successfully updated and saved to {csv_output_path}\")"
      ],
      "metadata": {
        "trusted": true,
        "execution": {
          "iopub.status.busy": "2024-11-12T16:16:52.328701Z",
          "iopub.execute_input": "2024-11-12T16:16:52.329098Z",
          "iopub.status.idle": "2024-11-12T16:16:52.340326Z",
          "shell.execute_reply.started": "2024-11-12T16:16:52.329059Z",
          "shell.execute_reply": "2024-11-12T16:16:52.339023Z"
        },
        "id": "Ihlqqxdk7UKc"
      },
      "outputs": [],
      "execution_count": 6
    }
  ]
}