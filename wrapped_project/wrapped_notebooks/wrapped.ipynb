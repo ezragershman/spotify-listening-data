{
 "cells": [
  {
   "cell_type": "code",
   "execution_count": null,
   "metadata": {},
   "outputs": [
    {
     "name": "stdout",
     "output_type": "stream",
     "text": [
      "Requirement already satisfied: pandas in c:\\users\\ezrag\\onedrive\\documents\\github\\spotify-listening-data\\venv\\lib\\site-packages (2.2.3)\n",
      "Requirement already satisfied: matplotlib in c:\\users\\ezrag\\onedrive\\documents\\github\\spotify-listening-data\\venv\\lib\\site-packages (3.9.3)\n",
      "Note: you may need to restart the kernel to use updated packages.\n"
     ]
    },
    {
     "name": "stderr",
     "output_type": "stream",
     "text": [
      "ERROR: Could not find a version that satisfies the requirement os (from versions: none)\n",
      "\n",
      "[notice] A new release of pip is available: 24.2 -> 24.3.1\n",
      "[notice] To update, run: python.exe -m pip install --upgrade pip\n",
      "ERROR: No matching distribution found for os\n"
     ]
    }
   ],
   "source": [
    "pip install pandas matplotlib os python-dotenv"
   ]
  },
  {
   "cell_type": "code",
   "execution_count": null,
   "metadata": {},
   "outputs": [],
   "source": [
    "import os\n",
    "from dotenv import load_dotenv\n",
    "\n",
    "# Load environment variables from .env file\n",
    "load_dotenv()\n",
    "\n",
    "SPOTIFY_CLIENT_ID = os.getenv('SPOTIFY_CLIENT_ID')\n",
    "SPOTIFY_CLIENT_SECRET = os.getenv('SPOTIFY_CLIENT_SECRET')\n",
    "\n",
    "print(f\"Client ID: {SPOTIFY_CLIENT_ID}\")\n",
    "print(f\"Client Secret: {SPOTIFY_CLIENT_SECRET}\")"
   ]
  },
  {
   "cell_type": "code",
   "execution_count": null,
   "metadata": {},
   "outputs": [],
   "source": [
    "# Import necessary libraries\n",
    "import pandas as pd\n",
    "import json\n",
    "import os\n",
    "import random\n",
    "from datetime import datetime, timedelta\n",
    "from dotenv import load_dotenv"
   ]
  },
  {
   "cell_type": "code",
   "execution_count": null,
   "metadata": {},
   "outputs": [],
   "source": [
    "# Function to get user ID from input\n",
    "def get_user_id():\n",
    "    user_id = input(\"Enter the user's ID: \").lower()\n",
    "    return user_id\n"
   ]
  },
  {
   "cell_type": "code",
   "execution_count": null,
   "metadata": {},
   "outputs": [],
   "source": [
    "# Function to get the number of data chunks from input\n",
    "def get_num_chunks():\n",
    "    num_chunks = int(input(\"Enter the number of chunks: \"))\n",
    "    return num_chunks"
   ]
  },
  {
   "cell_type": "code",
   "execution_count": null,
   "metadata": {},
   "outputs": [],
   "source": [
    "# Function to read and process data from multiple JSON files\n",
    "def read_and_process_data(user_id, num_chunks, base_path='wrapped_files/'):\n",
    "    all_data = []\n",
    "    \n",
    "    for i in range(num_chunks):\n",
    "        json_file = os.path.join(base_path, f'{user_id}_music_{i}.json')\n",
    "        print(f\"Checking for file: {json_file}\")\n",
    "        \n",
    "        if not os.path.exists(json_file):\n",
    "            print(f\"File not found: {json_file}\")\n",
    "            continue\n",
    "        \n",
    "        print(f\"Reading data from {json_file}\")\n",
    "        with open(json_file, 'r', encoding='utf-8') as file:\n",
    "            data_list = json.load(file)\n",
    "            all_data.extend(data_list)\n",
    "    \n",
    "    if not all_data:\n",
    "        raise ValueError(\"No data files were found or all were empty.\")\n",
    "    \n",
    "    df = pd.DataFrame(all_data)\n",
    "    df['user_id'] = user_id\n",
    "    df['endTime'] = pd.to_datetime(df['endTime'])\n",
    "    \n",
    "    print(f\"Data read successfully for {len(df)} records.\")\n",
    "    return df\n"
   ]
  },
  {
   "cell_type": "code",
   "execution_count": null,
   "metadata": {},
   "outputs": [],
   "source": [
    "# Function to export data to a CSV file\n",
    "def export_to_csv(df, user_id):\n",
    "    csv_file = f'{user_id}_listening_data.csv'\n",
    "    df.to_csv(csv_file, index=False)\n",
    "    print(f\"Data exported to {csv_file}\")\n"
   ]
  },
  {
   "cell_type": "code",
   "execution_count": null,
   "metadata": {},
   "outputs": [],
   "source": [
    "# Function to track and save unique songs to a CSV file\n",
    "def track_unique_songs(df, unique_songs_file):\n",
    "    unique_songs = df[['trackName', 'artistName']].drop_duplicates()\n",
    "    print(f\"Tracking {len(unique_songs)} unique songs.\")\n",
    "    \n",
    "    try:\n",
    "        existing_songs = pd.read_csv(unique_songs_file)\n",
    "        updated_songs = pd.concat([existing_songs, unique_songs]).drop_duplicates()\n",
    "        print(f\"Existing unique songs loaded, total unique songs now {len(updated_songs)}.\")\n",
    "    except FileNotFoundError:\n",
    "        updated_songs = unique_songs\n",
    "        print(\"Unique songs file not found. Creating a new one.\")\n",
    "    \n",
    "    updated_songs.to_csv(unique_songs_file, index=False)\n",
    "    print(f\"Unique songs tracked and saved to {unique_songs_file}.\")\n"
   ]
  },
  {
   "cell_type": "code",
   "execution_count": 11,
   "metadata": {},
   "outputs": [],
   "source": [
    "# Function to get Spotify access token\n",
    "def get_spotify_access_token(client_id, client_secret):\n",
    "    auth_url = 'https://accounts.spotify.com/api/token'\n",
    "    auth_response = requests.post(auth_url, {\n",
    "        'grant_type': 'client_credentials',\n",
    "        'client_id': client_id,\n",
    "        'client_secret': client_secret,\n",
    "    })\n",
    "    \n",
    "    auth_response_data = auth_response.json()\n",
    "    return auth_response_data['access_token']"
   ]
  },
  {
   "cell_type": "code",
   "execution_count": null,
   "metadata": {},
   "outputs": [],
   "source": [
    "# Function to get song details from Spotify API\n",
    "def get_song_details(artist_name, track_name, access_token):\n",
    "    search_url = 'https://api.spotify.com/v1/search'\n",
    "    headers = {\n",
    "        'Authorization': f'Bearer {access_token}'\n",
    "    }\n",
    "    params = {\n",
    "        'q': f'artist:{artist_name} track:{track_name}',\n",
    "        'type': 'track',\n",
    "        'limit': 1\n",
    "    }\n",
    "    \n",
    "    response = requests.get(search_url, headers=headers, params=params)\n",
    "    response_data = response.json()\n",
    "    \n",
    "    if response_data['tracks']['items']:\n",
    "        track_info = response_data['tracks']['items'][0]\n",
    "        song_details = {\n",
    "            'spotify_id': track_info['id'],\n",
    "            'album': track_info['album']['name'],\n",
    "            'release_date': track_info['album']['release_date'],\n",
    "            'popularity': track_info['popularity'],\n",
    "            'duration_ms': track_info['duration_ms'],\n",
    "            'track_number': track_info['track_number'],\n",
    "            'album_artwork': track_info['album']['images'][0]['url'] if track_info['album']['images'] else None,\n",
    "            'external_urls': track_info['external_urls']['spotify'],\n",
    "            'artists_involved': \", \".join(artist['name'] for artist in track_info['artists'])\n",
    "        }\n",
    "        return song_details\n",
    "    else:\n",
    "        return None\n"
   ]
  },
  {
   "cell_type": "code",
   "execution_count": null,
   "metadata": {},
   "outputs": [],
   "source": [
    "# Function to update unique songs table with Spotify info\n",
    "def update_unique_songs(unique_songs_file='unique_songs.csv'):\n",
    "    unique_songs = pd.read_csv(unique_songs_file)\n",
    "    unique_songs['spotify_id'] = None\n",
    "    unique_songs['album'] = None\n",
    "    unique_songs['release_date'] = None\n",
    "    unique_songs['popularity'] = None\n",
    "    unique_songs['duration_ms'] = None\n",
    "    unique_songs['track_number'] = None\n",
    "    unique_songs['album_artwork'] = None\n",
    "    unique_songs['external_urls'] = None\n",
    "    unique_songs['artists_involved'] = None\n",
    "    \n",
    "    access_token = get_spotify_access_token(SPOTIFY_CLIENT_ID, SPOTIFY_CLIENT_SECRET)\n",
    "    \n",
    "    for index, row in unique_songs.iterrows():\n",
    "        artist_name = row['artistName']\n",
    "        track_name = row['trackName']\n",
    "        song_details = get_song_details(artist_name, track_name, access_token)\n",
    "        \n",
    "        if song_details:\n",
    "            unique_songs.at[index, 'spotify_id'] = song_details['spotify_id']\n",
    "            unique_songs.at[index, 'album'] = song_details['album']\n",
    "            unique_songs.at[index, 'release_date'] = song_details['release_date']\n",
    "            unique_songs.at[index, 'popularity'] = song_details['popularity']\n",
    "            unique_songs.at[index, 'duration_ms'] = song_details['duration_ms']\n",
    "            unique_songs.at[index, 'track_number'] = song_details['track_number']\n",
    "            unique_songs.at[index, 'album_artwork'] = song_details['album_artwork']\n",
    "            unique_songs.at[index, 'external_urls'] = song_details['external_urls']\n",
    "            unique_songs.at[index, 'artists_involved'] = song_details['artists_involved']\n",
    "    \n",
    "    unique_songs.to_csv(unique_songs_file, index=False)\n",
    "    print(f\"Unique songs table updated with Spotify info and saved to {unique_songs_file}.\")"
   ]
  },
  {
   "cell_type": "code",
   "execution_count": null,
   "metadata": {},
   "outputs": [
    {
     "name": "stdout",
     "output_type": "stream",
     "text": [
      "Checking for file: ../wrapped_files/ezra_music_0.json\n",
      "Reading data from ../wrapped_files/ezra_music_0.json\n",
      "Checking for file: ../wrapped_files/ezra_music_1.json\n",
      "Reading data from ../wrapped_files/ezra_music_1.json\n",
      "Data read successfully for 10518 records.\n",
      "Data exported to ezra_listening_data.csv\n",
      "Tracking 4419 unique songs.\n",
      "Unique songs file not found. Creating a new one.\n",
      "Unique songs tracked and saved to unique_songs.csv.\n",
      "Data processing complete!\n"
     ]
    }
   ],
   "source": [
    "# Execute the main steps to read data, export to CSV, and track unique songs\n",
    "user_id = get_user_id()\n",
    "num_chunks = get_num_chunks()\n",
    "base_path = '../wrapped_files/'  # Adjusting the relative path based on the notebook location\n",
    "unique_songs_file = 'unique_songs.csv'\n",
    "\n",
    "try:\n",
    "    df = read_and_process_data(user_id, num_chunks, base_path)\n",
    "    export_to_csv(df, user_id)\n",
    "    track_unique_songs(df, unique_songs_file)\n",
    "\n",
    "    print(\"Data processing complete!\")\n",
    "except ValueError as e:\n",
    "    print(e)"
   ]
  },
  {
   "cell_type": "code",
   "execution_count": null,
   "metadata": {},
   "outputs": [],
   "source": [
    "# Execute the function to update unique songs table with Spotify info\n",
    "update_unique_songs('unique_songs.csv')"
   ]
  }
 ],
 "metadata": {
  "kernelspec": {
   "display_name": "venv",
   "language": "python",
   "name": "python3"
  },
  "language_info": {
   "codemirror_mode": {
    "name": "ipython",
    "version": 3
   },
   "file_extension": ".py",
   "mimetype": "text/x-python",
   "name": "python",
   "nbconvert_exporter": "python",
   "pygments_lexer": "ipython3",
   "version": "3.13.0"
  }
 },
 "nbformat": 4,
 "nbformat_minor": 2
}
